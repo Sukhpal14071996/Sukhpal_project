{
 "cells": [
  {
   "cell_type": "code",
   "execution_count": 1,
   "metadata": {},
   "outputs": [],
   "source": [
    "# Artificial Neural Network(Multi-Layer Perceptron)\n",
    "\n",
    "# Installing Theano\n",
    "# pip install --upgrade --no-deps git+git://github.com/Theano/Theano.git\n",
    "\n",
    "# Installing Tensorflow\n",
    "# Install Tensorflow from the website: https://www.tensorflow.org/versions/r0.12/get_started/os_setup.html\n",
    "\n",
    "# Installing Keras\n",
    "# pip install --upgrade keras"
   ]
  },
  {
   "cell_type": "code",
   "execution_count": 2,
   "metadata": {},
   "outputs": [],
   "source": [
    "# Part 1 - Data Preprocessing\n",
    "# Importing the libraries\n",
    "import numpy as np\n",
    "import matplotlib.pyplot as plt\n",
    "import pandas as pd"
   ]
  },
  {
   "cell_type": "code",
   "execution_count": 3,
   "metadata": {},
   "outputs": [],
   "source": [
    "# Importing the dataset\n",
    "dataset = pd.read_csv('musk_csv.csv')\n",
    "X = dataset.iloc[:, 3:-1].values\n",
    "y = dataset.iloc[:, -1].values"
   ]
  },
  {
   "cell_type": "code",
   "execution_count": 4,
   "metadata": {},
   "outputs": [
    {
     "data": {
      "text/html": [
       "<div>\n",
       "<style scoped>\n",
       "    .dataframe tbody tr th:only-of-type {\n",
       "        vertical-align: middle;\n",
       "    }\n",
       "\n",
       "    .dataframe tbody tr th {\n",
       "        vertical-align: top;\n",
       "    }\n",
       "\n",
       "    .dataframe thead th {\n",
       "        text-align: right;\n",
       "    }\n",
       "</style>\n",
       "<table border=\"1\" class=\"dataframe\">\n",
       "  <thead>\n",
       "    <tr style=\"text-align: right;\">\n",
       "      <th></th>\n",
       "      <th>ID</th>\n",
       "      <th>molecule_name</th>\n",
       "      <th>conformation_name</th>\n",
       "      <th>f1</th>\n",
       "      <th>f2</th>\n",
       "      <th>f3</th>\n",
       "      <th>f4</th>\n",
       "      <th>f5</th>\n",
       "      <th>f6</th>\n",
       "      <th>f7</th>\n",
       "      <th>...</th>\n",
       "      <th>f158</th>\n",
       "      <th>f159</th>\n",
       "      <th>f160</th>\n",
       "      <th>f161</th>\n",
       "      <th>f162</th>\n",
       "      <th>f163</th>\n",
       "      <th>f164</th>\n",
       "      <th>f165</th>\n",
       "      <th>f166</th>\n",
       "      <th>class</th>\n",
       "    </tr>\n",
       "  </thead>\n",
       "  <tbody>\n",
       "    <tr>\n",
       "      <th>0</th>\n",
       "      <td>1</td>\n",
       "      <td>MUSK-211</td>\n",
       "      <td>211_1+1</td>\n",
       "      <td>46</td>\n",
       "      <td>-108</td>\n",
       "      <td>-60</td>\n",
       "      <td>-69</td>\n",
       "      <td>-117</td>\n",
       "      <td>49</td>\n",
       "      <td>38</td>\n",
       "      <td>...</td>\n",
       "      <td>-308</td>\n",
       "      <td>52</td>\n",
       "      <td>-7</td>\n",
       "      <td>39</td>\n",
       "      <td>126</td>\n",
       "      <td>156</td>\n",
       "      <td>-50</td>\n",
       "      <td>-112</td>\n",
       "      <td>96</td>\n",
       "      <td>1</td>\n",
       "    </tr>\n",
       "    <tr>\n",
       "      <th>1</th>\n",
       "      <td>2</td>\n",
       "      <td>MUSK-211</td>\n",
       "      <td>211_1+10</td>\n",
       "      <td>41</td>\n",
       "      <td>-188</td>\n",
       "      <td>-145</td>\n",
       "      <td>22</td>\n",
       "      <td>-117</td>\n",
       "      <td>-6</td>\n",
       "      <td>57</td>\n",
       "      <td>...</td>\n",
       "      <td>-59</td>\n",
       "      <td>-2</td>\n",
       "      <td>52</td>\n",
       "      <td>103</td>\n",
       "      <td>136</td>\n",
       "      <td>169</td>\n",
       "      <td>-61</td>\n",
       "      <td>-136</td>\n",
       "      <td>79</td>\n",
       "      <td>1</td>\n",
       "    </tr>\n",
       "    <tr>\n",
       "      <th>2</th>\n",
       "      <td>3</td>\n",
       "      <td>MUSK-211</td>\n",
       "      <td>211_1+11</td>\n",
       "      <td>46</td>\n",
       "      <td>-194</td>\n",
       "      <td>-145</td>\n",
       "      <td>28</td>\n",
       "      <td>-117</td>\n",
       "      <td>73</td>\n",
       "      <td>57</td>\n",
       "      <td>...</td>\n",
       "      <td>-134</td>\n",
       "      <td>-154</td>\n",
       "      <td>57</td>\n",
       "      <td>143</td>\n",
       "      <td>142</td>\n",
       "      <td>165</td>\n",
       "      <td>-67</td>\n",
       "      <td>-145</td>\n",
       "      <td>39</td>\n",
       "      <td>1</td>\n",
       "    </tr>\n",
       "    <tr>\n",
       "      <th>3</th>\n",
       "      <td>4</td>\n",
       "      <td>MUSK-211</td>\n",
       "      <td>211_1+12</td>\n",
       "      <td>41</td>\n",
       "      <td>-188</td>\n",
       "      <td>-145</td>\n",
       "      <td>22</td>\n",
       "      <td>-117</td>\n",
       "      <td>-7</td>\n",
       "      <td>57</td>\n",
       "      <td>...</td>\n",
       "      <td>-60</td>\n",
       "      <td>-4</td>\n",
       "      <td>52</td>\n",
       "      <td>104</td>\n",
       "      <td>136</td>\n",
       "      <td>168</td>\n",
       "      <td>-60</td>\n",
       "      <td>-135</td>\n",
       "      <td>80</td>\n",
       "      <td>1</td>\n",
       "    </tr>\n",
       "    <tr>\n",
       "      <th>4</th>\n",
       "      <td>5</td>\n",
       "      <td>MUSK-211</td>\n",
       "      <td>211_1+13</td>\n",
       "      <td>41</td>\n",
       "      <td>-188</td>\n",
       "      <td>-145</td>\n",
       "      <td>22</td>\n",
       "      <td>-117</td>\n",
       "      <td>-7</td>\n",
       "      <td>57</td>\n",
       "      <td>...</td>\n",
       "      <td>-60</td>\n",
       "      <td>-4</td>\n",
       "      <td>52</td>\n",
       "      <td>104</td>\n",
       "      <td>137</td>\n",
       "      <td>168</td>\n",
       "      <td>-60</td>\n",
       "      <td>-135</td>\n",
       "      <td>80</td>\n",
       "      <td>1</td>\n",
       "    </tr>\n",
       "  </tbody>\n",
       "</table>\n",
       "<p>5 rows × 170 columns</p>\n",
       "</div>"
      ],
      "text/plain": [
       "   ID molecule_name conformation_name  f1   f2   f3  f4   f5  f6  f7  ...  \\\n",
       "0   1      MUSK-211           211_1+1  46 -108  -60 -69 -117  49  38  ...   \n",
       "1   2      MUSK-211          211_1+10  41 -188 -145  22 -117  -6  57  ...   \n",
       "2   3      MUSK-211          211_1+11  46 -194 -145  28 -117  73  57  ...   \n",
       "3   4      MUSK-211          211_1+12  41 -188 -145  22 -117  -7  57  ...   \n",
       "4   5      MUSK-211          211_1+13  41 -188 -145  22 -117  -7  57  ...   \n",
       "\n",
       "   f158  f159  f160  f161  f162  f163  f164  f165  f166  class  \n",
       "0  -308    52    -7    39   126   156   -50  -112    96      1  \n",
       "1   -59    -2    52   103   136   169   -61  -136    79      1  \n",
       "2  -134  -154    57   143   142   165   -67  -145    39      1  \n",
       "3   -60    -4    52   104   136   168   -60  -135    80      1  \n",
       "4   -60    -4    52   104   137   168   -60  -135    80      1  \n",
       "\n",
       "[5 rows x 170 columns]"
      ]
     },
     "execution_count": 4,
     "metadata": {},
     "output_type": "execute_result"
    }
   ],
   "source": [
    "dataset.head()"
   ]
  },
  {
   "cell_type": "code",
   "execution_count": 5,
   "metadata": {},
   "outputs": [
    {
     "name": "stdout",
     "output_type": "stream",
     "text": [
      "<class 'pandas.core.frame.DataFrame'>\n",
      "RangeIndex: 6598 entries, 0 to 6597\n",
      "Columns: 170 entries, ID to class\n",
      "dtypes: int64(168), object(2)\n",
      "memory usage: 8.6+ MB\n"
     ]
    }
   ],
   "source": [
    "dataset.info()"
   ]
  },
  {
   "cell_type": "code",
   "execution_count": 6,
   "metadata": {},
   "outputs": [
    {
     "data": {
      "text/plain": [
       "0    5581\n",
       "1    1017\n",
       "Name: class, dtype: int64"
      ]
     },
     "execution_count": 6,
     "metadata": {},
     "output_type": "execute_result"
    }
   ],
   "source": [
    "dataset['class'].value_counts()"
   ]
  },
  {
   "cell_type": "code",
   "execution_count": 7,
   "metadata": {},
   "outputs": [
    {
     "name": "stdout",
     "output_type": "stream",
     "text": [
      "ID                   0\n",
      "molecule_name        0\n",
      "conformation_name    0\n",
      "f1                   0\n",
      "f2                   0\n",
      "f3                   0\n",
      "f4                   0\n",
      "f5                   0\n",
      "f6                   0\n",
      "f7                   0\n",
      "f8                   0\n",
      "f9                   0\n",
      "f10                  0\n",
      "f11                  0\n",
      "f12                  0\n",
      "f13                  0\n",
      "f14                  0\n",
      "f15                  0\n",
      "f16                  0\n",
      "f17                  0\n",
      "f18                  0\n",
      "f19                  0\n",
      "f20                  0\n",
      "f21                  0\n",
      "f22                  0\n",
      "f23                  0\n",
      "f24                  0\n",
      "f25                  0\n",
      "f26                  0\n",
      "f27                  0\n",
      "                    ..\n",
      "f138                 0\n",
      "f139                 0\n",
      "f140                 0\n",
      "f141                 0\n",
      "f142                 0\n",
      "f143                 0\n",
      "f144                 0\n",
      "f145                 0\n",
      "f146                 0\n",
      "f147                 0\n",
      "f148                 0\n",
      "f149                 0\n",
      "f150                 0\n",
      "f151                 0\n",
      "f152                 0\n",
      "f153                 0\n",
      "f154                 0\n",
      "f155                 0\n",
      "f156                 0\n",
      "f157                 0\n",
      "f158                 0\n",
      "f159                 0\n",
      "f160                 0\n",
      "f161                 0\n",
      "f162                 0\n",
      "f163                 0\n",
      "f164                 0\n",
      "f165                 0\n",
      "f166                 0\n",
      "class                0\n",
      "Length: 170, dtype: int64\n"
     ]
    }
   ],
   "source": [
    "print(dataset.isnull().sum())"
   ]
  },
  {
   "cell_type": "code",
   "execution_count": 8,
   "metadata": {},
   "outputs": [],
   "source": [
    "# Splitting the dataset into the Training set and Test set\n",
    "from sklearn.model_selection import train_test_split\n",
    "X_train, X_test, y_train, y_test = train_test_split(X, y, test_size = 0.2, random_state = 0)"
   ]
  },
  {
   "cell_type": "code",
   "execution_count": 9,
   "metadata": {},
   "outputs": [
    {
     "name": "stderr",
     "output_type": "stream",
     "text": [
      "C:\\ProgramData\\Anaconda3\\lib\\site-packages\\sklearn\\utils\\validation.py:595: DataConversionWarning: Data with input dtype int64 was converted to float64 by StandardScaler.\n",
      "  warnings.warn(msg, DataConversionWarning)\n",
      "C:\\ProgramData\\Anaconda3\\lib\\site-packages\\sklearn\\utils\\validation.py:595: DataConversionWarning: Data with input dtype int64 was converted to float64 by StandardScaler.\n",
      "  warnings.warn(msg, DataConversionWarning)\n",
      "C:\\ProgramData\\Anaconda3\\lib\\site-packages\\sklearn\\utils\\validation.py:595: DataConversionWarning: Data with input dtype int64 was converted to float64 by StandardScaler.\n",
      "  warnings.warn(msg, DataConversionWarning)\n"
     ]
    }
   ],
   "source": [
    "# Feature Scaling\n",
    "from sklearn.preprocessing import StandardScaler\n",
    "sc = StandardScaler()\n",
    "X_train = sc.fit_transform(X_train)\n",
    "X_test = sc.transform(X_test)"
   ]
  },
  {
   "cell_type": "code",
   "execution_count": 10,
   "metadata": {},
   "outputs": [
    {
     "name": "stderr",
     "output_type": "stream",
     "text": [
      "Using TensorFlow backend.\n"
     ]
    },
    {
     "name": "stdout",
     "output_type": "stream",
     "text": [
      "WARNING:tensorflow:From C:\\ProgramData\\Anaconda3\\lib\\site-packages\\keras\\backend\\tensorflow_backend.py:66: The name tf.get_default_graph is deprecated. Please use tf.compat.v1.get_default_graph instead.\n",
      "\n",
      "WARNING:tensorflow:From C:\\ProgramData\\Anaconda3\\lib\\site-packages\\keras\\backend\\tensorflow_backend.py:541: The name tf.placeholder is deprecated. Please use tf.compat.v1.placeholder instead.\n",
      "\n",
      "WARNING:tensorflow:From C:\\ProgramData\\Anaconda3\\lib\\site-packages\\keras\\backend\\tensorflow_backend.py:4432: The name tf.random_uniform is deprecated. Please use tf.random.uniform instead.\n",
      "\n",
      "WARNING:tensorflow:From C:\\ProgramData\\Anaconda3\\lib\\site-packages\\keras\\optimizers.py:793: The name tf.train.Optimizer is deprecated. Please use tf.compat.v1.train.Optimizer instead.\n",
      "\n"
     ]
    },
    {
     "name": "stderr",
     "output_type": "stream",
     "text": [
      "C:\\ProgramData\\Anaconda3\\lib\\site-packages\\ipykernel_launcher.py:12: UserWarning: Update your `Dense` call to the Keras 2 API: `Dense(activation=\"relu\", input_dim=166, units=83, kernel_initializer=\"uniform\")`\n",
      "  if sys.path[0] == '':\n",
      "C:\\ProgramData\\Anaconda3\\lib\\site-packages\\ipykernel_launcher.py:15: UserWarning: Update your `Dense` call to the Keras 2 API: `Dense(activation=\"relu\", units=83, kernel_initializer=\"uniform\")`\n",
      "  from ipykernel import kernelapp as app\n",
      "C:\\ProgramData\\Anaconda3\\lib\\site-packages\\ipykernel_launcher.py:18: UserWarning: Update your `Dense` call to the Keras 2 API: `Dense(activation=\"sigmoid\", units=1, kernel_initializer=\"uniform\")`\n"
     ]
    },
    {
     "name": "stdout",
     "output_type": "stream",
     "text": [
      "WARNING:tensorflow:From C:\\ProgramData\\Anaconda3\\lib\\site-packages\\keras\\backend\\tensorflow_backend.py:3657: The name tf.log is deprecated. Please use tf.math.log instead.\n",
      "\n",
      "WARNING:tensorflow:From C:\\ProgramData\\Anaconda3\\lib\\site-packages\\tensorflow\\python\\ops\\nn_impl.py:180: add_dispatch_support.<locals>.wrapper (from tensorflow.python.ops.array_ops) is deprecated and will be removed in a future version.\n",
      "Instructions for updating:\n",
      "Use tf.where in 2.0, which has the same broadcast rule as np.where\n"
     ]
    }
   ],
   "source": [
    "# Part 2 - Now let's make the ANN!\n",
    "\n",
    "# Importing the Keras libraries and packages\n",
    "import keras\n",
    "from keras.models import Sequential\n",
    "from keras.layers import Dense\n",
    "\n",
    "# Initialising the ANN\n",
    "classifier = Sequential()\n",
    "\n",
    "# Adding the input layer and the first hidden layer\n",
    "classifier.add(Dense(output_dim = 83, init = 'uniform', activation = 'relu', input_dim = 166))\n",
    "\n",
    "# Adding the second hidden layer\n",
    "classifier.add(Dense(output_dim = 83, init = 'uniform', activation = 'relu'))\n",
    "\n",
    "# Adding the output layer\n",
    "classifier.add(Dense(output_dim = 1, init = 'uniform', activation = 'sigmoid'))\n",
    "\n",
    "# Compiling the ANN\n",
    "classifier.compile(optimizer = 'adam', loss = 'binary_crossentropy', metrics = ['accuracy'])"
   ]
  },
  {
   "cell_type": "code",
   "execution_count": 11,
   "metadata": {},
   "outputs": [
    {
     "name": "stdout",
     "output_type": "stream",
     "text": [
      "WARNING:tensorflow:From C:\\ProgramData\\Anaconda3\\lib\\site-packages\\keras\\backend\\tensorflow_backend.py:1033: The name tf.assign_add is deprecated. Please use tf.compat.v1.assign_add instead.\n",
      "\n",
      "Train on 4222 samples, validate on 1056 samples\n",
      "Epoch 1/100\n",
      "4222/4222 [==============================] - 4s 950us/step - loss: 0.3180 - acc: 0.8624 - val_loss: 0.1998 - val_acc: 0.9214\n",
      "Epoch 2/100\n",
      "4222/4222 [==============================] - 1s 182us/step - loss: 0.1351 - acc: 0.9498 - val_loss: 0.1168 - val_acc: 0.9650\n",
      "Epoch 3/100\n",
      "4222/4222 [==============================] - 1s 161us/step - loss: 0.0858 - acc: 0.9709 - val_loss: 0.0812 - val_acc: 0.9754\n",
      "Epoch 4/100\n",
      "4222/4222 [==============================] - 1s 158us/step - loss: 0.0646 - acc: 0.9739 - val_loss: 0.0659 - val_acc: 0.9820\n",
      "Epoch 5/100\n",
      "4222/4222 [==============================] - 1s 169us/step - loss: 0.0414 - acc: 0.9853 - val_loss: 0.0504 - val_acc: 0.9839\n",
      "Epoch 6/100\n",
      "4222/4222 [==============================] - 1s 179us/step - loss: 0.0380 - acc: 0.9877 - val_loss: 0.0493 - val_acc: 0.9782\n",
      "Epoch 7/100\n",
      "4222/4222 [==============================] - 1s 188us/step - loss: 0.0256 - acc: 0.9903 - val_loss: 0.0476 - val_acc: 0.9867\n",
      "Epoch 8/100\n",
      "4222/4222 [==============================] - 1s 156us/step - loss: 0.0210 - acc: 0.9924 - val_loss: 0.0548 - val_acc: 0.9811\n",
      "Epoch 9/100\n",
      "4222/4222 [==============================] - 1s 185us/step - loss: 0.0185 - acc: 0.9936 - val_loss: 0.0370 - val_acc: 0.9867\n",
      "Epoch 10/100\n",
      "4222/4222 [==============================] - 1s 166us/step - loss: 0.0125 - acc: 0.9957 - val_loss: 0.0344 - val_acc: 0.9896\n",
      "Epoch 11/100\n",
      "4222/4222 [==============================] - 1s 178us/step - loss: 0.0122 - acc: 0.9962 - val_loss: 0.0291 - val_acc: 0.9905\n",
      "Epoch 12/100\n",
      "4222/4222 [==============================] - 1s 156us/step - loss: 0.0081 - acc: 0.9979 - val_loss: 0.0538 - val_acc: 0.9858\n",
      "Epoch 13/100\n",
      "4222/4222 [==============================] - 1s 154us/step - loss: 0.0086 - acc: 0.9967 - val_loss: 0.0443 - val_acc: 0.9848\n",
      "Epoch 14/100\n",
      "4222/4222 [==============================] - 1s 172us/step - loss: 0.0038 - acc: 0.9988 - val_loss: 0.0282 - val_acc: 0.9924\n",
      "Epoch 15/100\n",
      "4222/4222 [==============================] - 1s 164us/step - loss: 0.0029 - acc: 0.9995 - val_loss: 0.0222 - val_acc: 0.9943\n",
      "Epoch 16/100\n",
      "4222/4222 [==============================] - 1s 180us/step - loss: 0.0047 - acc: 0.9986 - val_loss: 0.0325 - val_acc: 0.9915\n",
      "Epoch 17/100\n",
      "4222/4222 [==============================] - 1s 163us/step - loss: 0.0025 - acc: 0.9993 - val_loss: 0.0247 - val_acc: 0.9924\n",
      "Epoch 18/100\n",
      "4222/4222 [==============================] - 1s 154us/step - loss: 0.0048 - acc: 0.9983 - val_loss: 0.0331 - val_acc: 0.9915\n",
      "Epoch 19/100\n",
      "4222/4222 [==============================] - 1s 155us/step - loss: 0.0025 - acc: 0.9991 - val_loss: 0.0353 - val_acc: 0.9886\n",
      "Epoch 20/100\n",
      "4222/4222 [==============================] - 1s 154us/step - loss: 0.0166 - acc: 0.9943 - val_loss: 0.0478 - val_acc: 0.9877\n",
      "Epoch 21/100\n",
      "4222/4222 [==============================] - 1s 177us/step - loss: 0.0528 - acc: 0.9851 - val_loss: 0.0340 - val_acc: 0.9886\n",
      "Epoch 22/100\n",
      "4222/4222 [==============================] - 1s 209us/step - loss: 0.0048 - acc: 0.9993 - val_loss: 0.0233 - val_acc: 0.9934\n",
      "Epoch 23/100\n",
      "4222/4222 [==============================] - 1s 239us/step - loss: 0.0012 - acc: 1.0000 - val_loss: 0.0216 - val_acc: 0.9943\n",
      "Epoch 24/100\n",
      "4222/4222 [==============================] - 1s 215us/step - loss: 6.2543e-04 - acc: 1.0000 - val_loss: 0.0228 - val_acc: 0.9953\n",
      "Epoch 25/100\n",
      "4222/4222 [==============================] - 1s 203us/step - loss: 4.4070e-04 - acc: 1.0000 - val_loss: 0.0242 - val_acc: 0.9953\n",
      "Epoch 26/100\n",
      "4222/4222 [==============================] - 1s 174us/step - loss: 3.2340e-04 - acc: 1.0000 - val_loss: 0.0240 - val_acc: 0.9953\n",
      "Epoch 27/100\n",
      "4222/4222 [==============================] - 1s 166us/step - loss: 2.3821e-04 - acc: 1.0000 - val_loss: 0.0244 - val_acc: 0.9953\n",
      "Epoch 28/100\n",
      "4222/4222 [==============================] - 1s 245us/step - loss: 1.8652e-04 - acc: 1.0000 - val_loss: 0.0265 - val_acc: 0.9953\n",
      "Epoch 29/100\n",
      "4222/4222 [==============================] - 1s 194us/step - loss: 1.5055e-04 - acc: 1.0000 - val_loss: 0.0264 - val_acc: 0.9953\n",
      "Epoch 30/100\n",
      "4222/4222 [==============================] - 1s 158us/step - loss: 1.2486e-04 - acc: 1.0000 - val_loss: 0.0266 - val_acc: 0.9953\n",
      "Epoch 31/100\n",
      "4222/4222 [==============================] - 1s 162us/step - loss: 1.0331e-04 - acc: 1.0000 - val_loss: 0.0271 - val_acc: 0.9953\n",
      "Epoch 32/100\n",
      "4222/4222 [==============================] - 1s 163us/step - loss: 8.7319e-05 - acc: 1.0000 - val_loss: 0.0283 - val_acc: 0.9953\n",
      "Epoch 33/100\n",
      "4222/4222 [==============================] - 1s 172us/step - loss: 7.6026e-05 - acc: 1.0000 - val_loss: 0.0278 - val_acc: 0.9953\n",
      "Epoch 34/100\n",
      "4222/4222 [==============================] - 1s 158us/step - loss: 6.4100e-05 - acc: 1.0000 - val_loss: 0.0283 - val_acc: 0.9953\n",
      "Epoch 35/100\n",
      "4222/4222 [==============================] - 1s 170us/step - loss: 5.6618e-05 - acc: 1.0000 - val_loss: 0.0293 - val_acc: 0.9953\n",
      "Epoch 36/100\n",
      "4222/4222 [==============================] - 1s 173us/step - loss: 4.9614e-05 - acc: 1.0000 - val_loss: 0.0295 - val_acc: 0.9953\n",
      "Epoch 37/100\n",
      "4222/4222 [==============================] - 1s 198us/step - loss: 4.3356e-05 - acc: 1.0000 - val_loss: 0.0300 - val_acc: 0.9953\n",
      "Epoch 38/100\n",
      "4222/4222 [==============================] - 1s 193us/step - loss: 3.8612e-05 - acc: 1.0000 - val_loss: 0.0303 - val_acc: 0.9953\n",
      "Epoch 39/100\n",
      "4222/4222 [==============================] - 1s 173us/step - loss: 3.4182e-05 - acc: 1.0000 - val_loss: 0.0311 - val_acc: 0.9953\n",
      "Epoch 40/100\n",
      "4222/4222 [==============================] - 1s 166us/step - loss: 3.0721e-05 - acc: 1.0000 - val_loss: 0.0311 - val_acc: 0.9953\n",
      "Epoch 41/100\n",
      "4222/4222 [==============================] - 1s 190us/step - loss: 2.7176e-05 - acc: 1.0000 - val_loss: 0.0316 - val_acc: 0.9953\n",
      "Epoch 42/100\n",
      "4222/4222 [==============================] - 1s 237us/step - loss: 2.4289e-05 - acc: 1.0000 - val_loss: 0.0319 - val_acc: 0.9953\n",
      "Epoch 43/100\n",
      "4222/4222 [==============================] - 1s 229us/step - loss: 2.1708e-05 - acc: 1.0000 - val_loss: 0.0321 - val_acc: 0.9953\n",
      "Epoch 44/100\n",
      "4222/4222 [==============================] - 1s 324us/step - loss: 1.9393e-05 - acc: 1.0000 - val_loss: 0.0328 - val_acc: 0.9953\n",
      "Epoch 45/100\n",
      "4222/4222 [==============================] - 1s 229us/step - loss: 1.7190e-05 - acc: 1.0000 - val_loss: 0.0334 - val_acc: 0.9953\n",
      "Epoch 46/100\n",
      "4222/4222 [==============================] - 1s 237us/step - loss: 1.5506e-05 - acc: 1.0000 - val_loss: 0.0343 - val_acc: 0.9953\n",
      "Epoch 47/100\n",
      "4222/4222 [==============================] - 1s 240us/step - loss: 1.4038e-05 - acc: 1.0000 - val_loss: 0.0342 - val_acc: 0.9953\n",
      "Epoch 48/100\n",
      "4222/4222 [==============================] - 1s 199us/step - loss: 1.2646e-05 - acc: 1.0000 - val_loss: 0.0354 - val_acc: 0.9953\n",
      "Epoch 49/100\n",
      "4222/4222 [==============================] - 1s 172us/step - loss: 1.1553e-05 - acc: 1.0000 - val_loss: 0.0348 - val_acc: 0.9953\n",
      "Epoch 50/100\n",
      "4222/4222 [==============================] - 1s 188us/step - loss: 1.0656e-05 - acc: 1.0000 - val_loss: 0.0357 - val_acc: 0.9953\n",
      "Epoch 51/100\n",
      "4222/4222 [==============================] - 1s 174us/step - loss: 9.5408e-06 - acc: 1.0000 - val_loss: 0.0355 - val_acc: 0.9953\n",
      "Epoch 52/100\n",
      "4222/4222 [==============================] - 1s 183us/step - loss: 8.6591e-06 - acc: 1.0000 - val_loss: 0.0360 - val_acc: 0.9953\n",
      "Epoch 53/100\n",
      "4222/4222 [==============================] - 1s 187us/step - loss: 7.9600e-06 - acc: 1.0000 - val_loss: 0.0358 - val_acc: 0.9953\n",
      "Epoch 54/100\n",
      "4222/4222 [==============================] - 1s 245us/step - loss: 7.2335e-06 - acc: 1.0000 - val_loss: 0.0363 - val_acc: 0.9953\n",
      "Epoch 55/100\n",
      "4222/4222 [==============================] - 1s 188us/step - loss: 6.6297e-06 - acc: 1.0000 - val_loss: 0.0358 - val_acc: 0.9953\n",
      "Epoch 56/100\n",
      "4222/4222 [==============================] - 1s 158us/step - loss: 6.0627e-06 - acc: 1.0000 - val_loss: 0.0361 - val_acc: 0.9953\n",
      "Epoch 57/100\n",
      "4222/4222 [==============================] - 1s 158us/step - loss: 5.5578e-06 - acc: 1.0000 - val_loss: 0.0361 - val_acc: 0.9953\n"
     ]
    },
    {
     "name": "stdout",
     "output_type": "stream",
     "text": [
      "Epoch 58/100\n",
      "4222/4222 [==============================] - 1s 162us/step - loss: 5.1578e-06 - acc: 1.0000 - val_loss: 0.0366 - val_acc: 0.9953\n",
      "Epoch 59/100\n",
      "4222/4222 [==============================] - 1s 163us/step - loss: 4.7083e-06 - acc: 1.0000 - val_loss: 0.0370 - val_acc: 0.9953\n",
      "Epoch 60/100\n",
      "4222/4222 [==============================] - 1s 244us/step - loss: 4.2819e-06 - acc: 1.0000 - val_loss: 0.0369 - val_acc: 0.9953\n",
      "Epoch 61/100\n",
      "4222/4222 [==============================] - 1s 222us/step - loss: 3.9674e-06 - acc: 1.0000 - val_loss: 0.0369 - val_acc: 0.9953\n",
      "Epoch 62/100\n",
      "4222/4222 [==============================] - 1s 205us/step - loss: 3.6330e-06 - acc: 1.0000 - val_loss: 0.0373 - val_acc: 0.9953\n",
      "Epoch 63/100\n",
      "4222/4222 [==============================] - 1s 263us/step - loss: 3.3547e-06 - acc: 1.0000 - val_loss: 0.0374 - val_acc: 0.9953\n",
      "Epoch 64/100\n",
      "4222/4222 [==============================] - 1s 352us/step - loss: 3.0936e-06 - acc: 1.0000 - val_loss: 0.0379 - val_acc: 0.9953\n",
      "Epoch 65/100\n",
      "4222/4222 [==============================] - 1s 186us/step - loss: 2.8339e-06 - acc: 1.0000 - val_loss: 0.0372 - val_acc: 0.9953\n",
      "Epoch 66/100\n",
      "4222/4222 [==============================] - 1s 160us/step - loss: 2.6345e-06 - acc: 1.0000 - val_loss: 0.0376 - val_acc: 0.9953\n",
      "Epoch 67/100\n",
      "4222/4222 [==============================] - 1s 221us/step - loss: 2.4359e-06 - acc: 1.0000 - val_loss: 0.0382 - val_acc: 0.9953\n",
      "Epoch 68/100\n",
      "4222/4222 [==============================] - 1s 174us/step - loss: 2.2465e-06 - acc: 1.0000 - val_loss: 0.0379 - val_acc: 0.9953\n",
      "Epoch 69/100\n",
      "4222/4222 [==============================] - 1s 181us/step - loss: 2.0922e-06 - acc: 1.0000 - val_loss: 0.0380 - val_acc: 0.9953\n",
      "Epoch 70/100\n",
      "4222/4222 [==============================] - 1s 159us/step - loss: 1.9315e-06 - acc: 1.0000 - val_loss: 0.0386 - val_acc: 0.9953\n",
      "Epoch 71/100\n",
      "4222/4222 [==============================] - 1s 193us/step - loss: 1.7820e-06 - acc: 1.0000 - val_loss: 0.0384 - val_acc: 0.9953\n",
      "Epoch 72/100\n",
      "4222/4222 [==============================] - 1s 241us/step - loss: 1.6580e-06 - acc: 1.0000 - val_loss: 0.0385 - val_acc: 0.9953\n",
      "Epoch 73/100\n",
      "4222/4222 [==============================] - 1s 226us/step - loss: 1.5380e-06 - acc: 1.0000 - val_loss: 0.0389 - val_acc: 0.9953\n",
      "Epoch 74/100\n",
      "4222/4222 [==============================] - 1s 161us/step - loss: 1.4314e-06 - acc: 1.0000 - val_loss: 0.0392 - val_acc: 0.9943\n",
      "Epoch 75/100\n",
      "4222/4222 [==============================] - 1s 153us/step - loss: 1.3223e-06 - acc: 1.0000 - val_loss: 0.0390 - val_acc: 0.9953\n",
      "Epoch 76/100\n",
      "4222/4222 [==============================] - 1s 159us/step - loss: 1.2291e-06 - acc: 1.0000 - val_loss: 0.0390 - val_acc: 0.9953\n",
      "Epoch 77/100\n",
      "4222/4222 [==============================] - 1s 159us/step - loss: 1.1474e-06 - acc: 1.0000 - val_loss: 0.0394 - val_acc: 0.9943\n",
      "Epoch 78/100\n",
      "4222/4222 [==============================] - 1s 176us/step - loss: 1.0618e-06 - acc: 1.0000 - val_loss: 0.0394 - val_acc: 0.9953\n",
      "Epoch 79/100\n",
      "4222/4222 [==============================] - 1s 208us/step - loss: 9.9311e-07 - acc: 1.0000 - val_loss: 0.0395 - val_acc: 0.9943\n",
      "Epoch 80/100\n",
      "4222/4222 [==============================] - 1s 272us/step - loss: 9.2516e-07 - acc: 1.0000 - val_loss: 0.0394 - val_acc: 0.9953\n",
      "Epoch 81/100\n",
      "4222/4222 [==============================] - 1s 307us/step - loss: 8.7246e-07 - acc: 1.0000 - val_loss: 0.0400 - val_acc: 0.9943\n",
      "Epoch 82/100\n",
      "4222/4222 [==============================] - 1s 198us/step - loss: 8.0579e-07 - acc: 1.0000 - val_loss: 0.0398 - val_acc: 0.9943\n",
      "Epoch 83/100\n",
      "4222/4222 [==============================] - 1s 195us/step - loss: 7.5757e-07 - acc: 1.0000 - val_loss: 0.0401 - val_acc: 0.9943\n",
      "Epoch 84/100\n",
      "4222/4222 [==============================] - 1s 170us/step - loss: 7.0578e-07 - acc: 1.0000 - val_loss: 0.0403 - val_acc: 0.9943\n",
      "Epoch 85/100\n",
      "4222/4222 [==============================] - 1s 179us/step - loss: 6.5803e-07 - acc: 1.0000 - val_loss: 0.0401 - val_acc: 0.9962\n",
      "Epoch 86/100\n",
      "4222/4222 [==============================] - 1s 166us/step - loss: 6.2584e-07 - acc: 1.0000 - val_loss: 0.0409 - val_acc: 0.9943\n",
      "Epoch 87/100\n",
      "4222/4222 [==============================] - 1s 225us/step - loss: 5.8048e-07 - acc: 1.0000 - val_loss: 0.0405 - val_acc: 0.9943\n",
      "Epoch 88/100\n",
      "4222/4222 [==============================] - 1s 243us/step - loss: 5.4440e-07 - acc: 1.0000 - val_loss: 0.0404 - val_acc: 0.9943\n",
      "Epoch 89/100\n",
      "4222/4222 [==============================] - 1s 217us/step - loss: 5.1347e-07 - acc: 1.0000 - val_loss: 0.0408 - val_acc: 0.9943 ETA: 1s - loss: 5.2131e-07 -\n",
      "Epoch 90/100\n",
      "4222/4222 [==============================] - 1s 130us/step - loss: 4.8233e-07 - acc: 1.0000 - val_loss: 0.0409 - val_acc: 0.9943\n",
      "Epoch 91/100\n",
      "4222/4222 [==============================] - 1s 137us/step - loss: 4.5850e-07 - acc: 1.0000 - val_loss: 0.0409 - val_acc: 0.9943\n",
      "Epoch 92/100\n",
      "4222/4222 [==============================] - 1s 133us/step - loss: 4.2800e-07 - acc: 1.0000 - val_loss: 0.0411 - val_acc: 0.9943\n",
      "Epoch 93/100\n",
      "4222/4222 [==============================] - 1s 227us/step - loss: 4.0580e-07 - acc: 1.0000 - val_loss: 0.0412 - val_acc: 0.9943\n",
      "Epoch 94/100\n",
      "4222/4222 [==============================] - 1s 228us/step - loss: 3.8340e-07 - acc: 1.0000 - val_loss: 0.0414 - val_acc: 0.9943\n",
      "Epoch 95/100\n",
      "4222/4222 [==============================] - 1s 198us/step - loss: 3.6183e-07 - acc: 1.0000 - val_loss: 0.0418 - val_acc: 0.9943\n",
      "Epoch 96/100\n",
      "4222/4222 [==============================] - 1s 216us/step - loss: 3.4389e-07 - acc: 1.0000 - val_loss: 0.0420 - val_acc: 0.9943\n",
      "Epoch 97/100\n",
      "4222/4222 [==============================] - 1s 198us/step - loss: 3.2595e-07 - acc: 1.0000 - val_loss: 0.0422 - val_acc: 0.9953\n",
      "Epoch 98/100\n",
      "4222/4222 [==============================] - 1s 195us/step - loss: 3.0808e-07 - acc: 1.0000 - val_loss: 0.0419 - val_acc: 0.9953\n",
      "Epoch 99/100\n",
      "4222/4222 [==============================] - 1s 182us/step - loss: 2.9410e-07 - acc: 1.0000 - val_loss: 0.0421 - val_acc: 0.9943\n",
      "Epoch 100/100\n",
      "4222/4222 [==============================] - 1s 197us/step - loss: 2.8091e-07 - acc: 1.0000 - val_loss: 0.0422 - val_acc: 0.9953\n"
     ]
    }
   ],
   "source": [
    "# Fitting the ANN to the Training set\n",
    "history=classifier.fit(X_train, y_train, validation_split =0.2, epochs=100)"
   ]
  },
  {
   "cell_type": "code",
   "execution_count": 12,
   "metadata": {},
   "outputs": [
    {
     "name": "stdout",
     "output_type": "stream",
     "text": [
      "<keras.callbacks.History object at 0x000001EB5BFC5320>\n"
     ]
    }
   ],
   "source": [
    "print(history)"
   ]
  },
  {
   "cell_type": "code",
   "execution_count": 13,
   "metadata": {},
   "outputs": [],
   "source": [
    "# Part 3 - Making the predictions and evaluating the model\n",
    "# Predicting the Test set results\n",
    "y_pred = classifier.predict(X_test)\n",
    "y_pred = (y_pred > 0.5)"
   ]
  },
  {
   "cell_type": "code",
   "execution_count": 14,
   "metadata": {},
   "outputs": [
    {
     "data": {
      "text/plain": [
       "array([[False],\n",
       "       [ True],\n",
       "       [False],\n",
       "       ...,\n",
       "       [False],\n",
       "       [False],\n",
       "       [False]])"
      ]
     },
     "execution_count": 14,
     "metadata": {},
     "output_type": "execute_result"
    }
   ],
   "source": [
    "y_pred"
   ]
  },
  {
   "cell_type": "code",
   "execution_count": 15,
   "metadata": {},
   "outputs": [
    {
     "name": "stdout",
     "output_type": "stream",
     "text": [
      "Train: 0.999, Test: 0.993\n"
     ]
    }
   ],
   "source": [
    "# evaluate the model\n",
    "_, train_acc = classifier.evaluate(X_train, y_train, verbose=0)\n",
    "_, test_acc = classifier.evaluate(X_test, y_test, verbose=0)\n",
    "print('Train: %.3f, Test: %.3f' % (train_acc, test_acc))"
   ]
  },
  {
   "cell_type": "code",
   "execution_count": 16,
   "metadata": {},
   "outputs": [
    {
     "data": {
      "image/png": "[encoded data removed]",
      "text/plain": [
       "<Figure size 432x288 with 1 Axes>"
      ]
     },
     "metadata": {
      "needs_background": "light"
     },
     "output_type": "display_data"
    }
   ],
   "source": [
    "# Plot loss during training\n",
    "plt.subplot(211)\n",
    "plt.title('Loss')\n",
    "plt.plot(history.history['loss'], label='train')\n",
    "plt.plot(history.history['val_loss'], label='test')\n",
    "plt.legend()\n",
    "plt.show()"
   ]
  },
  {
   "cell_type": "code",
   "execution_count": 17,
   "metadata": {},
   "outputs": [
    {
     "data": {
      "image/png": "[encoded data removed]",
      "text/plain": [
       "<Figure size 432x288 with 1 Axes>"
      ]
     },
     "metadata": {
      "needs_background": "light"
     },
     "output_type": "display_data"
    }
   ],
   "source": [
    "# Plot accuracy during training\n",
    "plt.subplot(212)\n",
    "plt.title('Accuracy')\n",
    "plt.plot(history.history['acc'], label='train')\n",
    "plt.plot(history.history['val_acc'], label='test')\n",
    "plt.legend()\n",
    "plt.show()"
   ]
  },
  {
   "cell_type": "code",
   "execution_count": 18,
   "metadata": {},
   "outputs": [
    {
     "data": {
      "text/plain": [
       "array([[1117,    3],\n",
       "       [   6,  194]], dtype=int64)"
      ]
     },
     "execution_count": 18,
     "metadata": {},
     "output_type": "execute_result"
    }
   ],
   "source": [
    "# Making the Confusion Matrix\n",
    "from sklearn.metrics import confusion_matrix, accuracy_score, precision_score, recall_score, f1_score\n",
    "confusion_matrix(y_test, y_pred)"
   ]
  },
  {
   "cell_type": "code",
   "execution_count": 19,
   "metadata": {},
   "outputs": [
    {
     "name": "stdout",
     "output_type": "stream",
     "text": [
      "Accuracy: 0.993182\n"
     ]
    }
   ],
   "source": [
    "# accuracy: (tp + tn) / (p + n)\n",
    "acc = accuracy_score(y_test, y_pred)\n",
    "print('Accuracy: %f' % acc)"
   ]
  },
  {
   "cell_type": "code",
   "execution_count": 20,
   "metadata": {},
   "outputs": [
    {
     "name": "stdout",
     "output_type": "stream",
     "text": [
      "Precision: 0.984772\n"
     ]
    }
   ],
   "source": [
    "# precision tp / (tp + fp)\n",
    "pre = precision_score(y_test, y_pred)\n",
    "print('Precision: %f' % pre)"
   ]
  },
  {
   "cell_type": "code",
   "execution_count": 21,
   "metadata": {},
   "outputs": [
    {
     "name": "stdout",
     "output_type": "stream",
     "text": [
      "Recall: 0.970000\n"
     ]
    }
   ],
   "source": [
    "# recall: tp / (tp + fn)\n",
    "rec = recall_score(y_test, y_pred)\n",
    "print('Recall: %f' % rec)"
   ]
  },
  {
   "cell_type": "code",
   "execution_count": 22,
   "metadata": {},
   "outputs": [
    {
     "name": "stdout",
     "output_type": "stream",
     "text": [
      "F1 score: 0.977330\n"
     ]
    }
   ],
   "source": [
    "# f1: 2 tp / (2 tp + fp + fn)\n",
    "f1 = f1_score(y_test, y_pred)\n",
    "print('F1 score: %f' % f1)"
   ]
  }
 ],
 "metadata": {
  "kernelspec": {
   "display_name": "Python 3",
   "language": "python",
   "name": "python3"
  },
  "language_info": {
   "codemirror_mode": {
    "name": "ipython",
    "version": 3
   },
   "file_extension": ".py",
   "mimetype": "text/x-python",
   "name": "python",
   "nbconvert_exporter": "python",
   "pygments_lexer": "ipython3",
   "version": "3.7.3"
  }
 },
 "nbformat": 4,
 "nbformat_minor": 2
}
